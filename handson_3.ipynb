{
  "nbformat": 4,
  "nbformat_minor": 0,
  "metadata": {
    "colab": {
      "provenance": []
    },
    "kernelspec": {
      "name": "python3",
      "display_name": "Python 3"
    },
    "language_info": {
      "name": "python"
    }
  },
  "cells": [
    {
      "cell_type": "code",
      "execution_count": null,
      "metadata": {
        "colab": {
          "base_uri": "https://localhost:8080/"
        },
        "id": "_UIcOoendDJA",
        "outputId": "f29ec345-52fd-4b1f-9526-cd45cf13e4c9"
      },
      "outputs": [
        {
          "output_type": "stream",
          "name": "stdout",
          "text": [
            "Enter numbers With spaces: 5 2 4 7 1 3 6\n",
            "Sorted list: [1, 2, 3, 4, 5, 6, 7]\n"
          ]
        }
      ],
      "source": [
        "import timeit as ti\n",
        "import matplotlib.pyplot as pt\n",
        "import numpy as npm\n",
        "import psutil as ps\n",
        "def merge_sort(array):\n",
        "    if len(array) > 1:\n",
        "        mid_point = len(array) // 2\n",
        "        left_side = array[:mid_point]\n",
        "        right_side = array[mid_point:]\n",
        "\n",
        "        merge_sort(left_side)\n",
        "        merge_sort(right_side)\n",
        "\n",
        "        l = r = a = 0\n",
        "\n",
        "        # Merge the sorted halves\n",
        "        while l < len(left_side) and r < len(right_side):\n",
        "            if left_side[l] < right_side[r]:\n",
        "                array[a] = left_side[l]\n",
        "                l += 1\n",
        "            else:\n",
        "                array[a] = right_side[r]\n",
        "                r += 1\n",
        "            a += 1\n",
        "       # Add remaining items from the left half, if any\n",
        "        while l < len(left_side):\n",
        "            array[a] = left_side[l]\n",
        "            l += 1\n",
        "            a += 1\n",
        "\n",
        "        # Add remaining items from the right half, if any\n",
        "        while r < len(right_side):\n",
        "            array[a] = right_side[r]\n",
        "            r += 1\n",
        "            a += 1\n",
        "\n",
        "# Taking input from user\n",
        "array = list(map(int, input(\"Enter numbers With spaces: \").split()))\n",
        "merge_sort(array)\n",
        "print(\"Sorted list:\", array)\n"
      ]
    }
  ]
}